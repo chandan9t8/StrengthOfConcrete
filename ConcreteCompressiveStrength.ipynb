{
  "nbformat": 4,
  "nbformat_minor": 0,
  "metadata": {
    "colab": {
      "provenance": [],
      "include_colab_link": true
    },
    "kernelspec": {
      "name": "python3",
      "display_name": "Python 3"
    },
    "language_info": {
      "name": "python"
    }
  },
  "cells": [
    {
      "cell_type": "markdown",
      "metadata": {
        "id": "view-in-github",
        "colab_type": "text"
      },
      "source": [
        "<a href=\"https://colab.research.google.com/github/chandan9t8/StrengthOfConcrete/blob/main/ConcreteCompressiveStrength.ipynb\" target=\"_parent\"><img src=\"https://colab.research.google.com/assets/colab-badge.svg\" alt=\"Open In Colab\"/></a>"
      ]
    },
    {
      "cell_type": "markdown",
      "source": [
        "This Colab notebook aims to determine the compressive strength of concrete based on two key components: Cement and Water, both measured in kilograms per cubic meter (kg/m³). By developing a predictive model, this project seeks to estimate the concrete compressive strength using the quantities of Cement and Water. Compressive strength is a critical parameter in construction, significantly influencing the durability and safety of structures.\n",
        "\n",
        "Dataset : https://archive.ics.uci.edu/dataset/165/concrete+compressive+strength\n",
        "\n"
      ],
      "metadata": {
        "id": "eS6FSPZseg8R"
      }
    },
    {
      "cell_type": "code",
      "execution_count": 1,
      "metadata": {
        "id": "QwkOg-QaH55w"
      },
      "outputs": [],
      "source": [
        "import pandas as pd\n",
        "import numpy as np\n",
        "from sklearn.linear_model import LinearRegression\n",
        "from sklearn.preprocessing import StandardScaler, PolynomialFeatures\n",
        "from sklearn.model_selection import train_test_split\n",
        "from sklearn.metrics import mean_squared_error\n",
        "import tensorflow as tf\n",
        "import matplotlib.pyplot as plt"
      ]
    },
    {
      "cell_type": "code",
      "source": [
        "#mount drive and read excel data"
      ],
      "metadata": {
        "colab": {
          "base_uri": "https://localhost:8080/"
        },
        "id": "uHivqWQjIWHP",
        "outputId": "e4ee2d18-39eb-48a5-e5fa-e4f6c3eaa926"
      },
      "execution_count": 2,
      "outputs": [
        {
          "output_type": "stream",
          "name": "stdout",
          "text": [
            "Mounted at /content/drive\n"
          ]
        }
      ]
    },
    {
      "cell_type": "code",
      "source": [
        "data.head()"
      ],
      "metadata": {
        "colab": {
          "base_uri": "https://localhost:8080/",
          "height": 276
        },
        "id": "7jqHECDYbevm",
        "outputId": "bc3663a1-68af-4aad-b907-615e9e7f324b"
      },
      "execution_count": 4,
      "outputs": [
        {
          "output_type": "execute_result",
          "data": {
            "text/plain": [
              "   Cement (component 1)(kg in a m^3 mixture)  \\\n",
              "0                                      540.0   \n",
              "1                                      540.0   \n",
              "2                                      332.5   \n",
              "3                                      332.5   \n",
              "4                                      198.6   \n",
              "\n",
              "   Blast Furnace Slag (component 2)(kg in a m^3 mixture)  \\\n",
              "0                                                0.0       \n",
              "1                                                0.0       \n",
              "2                                              142.5       \n",
              "3                                              142.5       \n",
              "4                                              132.4       \n",
              "\n",
              "   Fly Ash (component 3)(kg in a m^3 mixture)  \\\n",
              "0                                         0.0   \n",
              "1                                         0.0   \n",
              "2                                         0.0   \n",
              "3                                         0.0   \n",
              "4                                         0.0   \n",
              "\n",
              "   Water  (component 4)(kg in a m^3 mixture)  \\\n",
              "0                                      162.0   \n",
              "1                                      162.0   \n",
              "2                                      228.0   \n",
              "3                                      228.0   \n",
              "4                                      192.0   \n",
              "\n",
              "   Superplasticizer (component 5)(kg in a m^3 mixture)  \\\n",
              "0                                                2.5     \n",
              "1                                                2.5     \n",
              "2                                                0.0     \n",
              "3                                                0.0     \n",
              "4                                                0.0     \n",
              "\n",
              "   Coarse Aggregate  (component 6)(kg in a m^3 mixture)  \\\n",
              "0                                             1040.0      \n",
              "1                                             1055.0      \n",
              "2                                              932.0      \n",
              "3                                              932.0      \n",
              "4                                              978.4      \n",
              "\n",
              "   Fine Aggregate (component 7)(kg in a m^3 mixture)  Age (day)  \\\n",
              "0                                              676.0         28   \n",
              "1                                              676.0         28   \n",
              "2                                              594.0        270   \n",
              "3                                              594.0        365   \n",
              "4                                              825.5        360   \n",
              "\n",
              "   Concrete compressive strength(MPa, megapascals)   \n",
              "0                                         79.986111  \n",
              "1                                         61.887366  \n",
              "2                                         40.269535  \n",
              "3                                         41.052780  \n",
              "4                                         44.296075  "
            ],
            "text/html": [
              "\n",
              "  <div id=\"df-19d33c19-0b98-4e7f-bacb-65a643c6d585\" class=\"colab-df-container\">\n",
              "    <div>\n",
              "<style scoped>\n",
              "    .dataframe tbody tr th:only-of-type {\n",
              "        vertical-align: middle;\n",
              "    }\n",
              "\n",
              "    .dataframe tbody tr th {\n",
              "        vertical-align: top;\n",
              "    }\n",
              "\n",
              "    .dataframe thead th {\n",
              "        text-align: right;\n",
              "    }\n",
              "</style>\n",
              "<table border=\"1\" class=\"dataframe\">\n",
              "  <thead>\n",
              "    <tr style=\"text-align: right;\">\n",
              "      <th></th>\n",
              "      <th>Cement (component 1)(kg in a m^3 mixture)</th>\n",
              "      <th>Blast Furnace Slag (component 2)(kg in a m^3 mixture)</th>\n",
              "      <th>Fly Ash (component 3)(kg in a m^3 mixture)</th>\n",
              "      <th>Water  (component 4)(kg in a m^3 mixture)</th>\n",
              "      <th>Superplasticizer (component 5)(kg in a m^3 mixture)</th>\n",
              "      <th>Coarse Aggregate  (component 6)(kg in a m^3 mixture)</th>\n",
              "      <th>Fine Aggregate (component 7)(kg in a m^3 mixture)</th>\n",
              "      <th>Age (day)</th>\n",
              "      <th>Concrete compressive strength(MPa, megapascals)</th>\n",
              "    </tr>\n",
              "  </thead>\n",
              "  <tbody>\n",
              "    <tr>\n",
              "      <th>0</th>\n",
              "      <td>540.0</td>\n",
              "      <td>0.0</td>\n",
              "      <td>0.0</td>\n",
              "      <td>162.0</td>\n",
              "      <td>2.5</td>\n",
              "      <td>1040.0</td>\n",
              "      <td>676.0</td>\n",
              "      <td>28</td>\n",
              "      <td>79.986111</td>\n",
              "    </tr>\n",
              "    <tr>\n",
              "      <th>1</th>\n",
              "      <td>540.0</td>\n",
              "      <td>0.0</td>\n",
              "      <td>0.0</td>\n",
              "      <td>162.0</td>\n",
              "      <td>2.5</td>\n",
              "      <td>1055.0</td>\n",
              "      <td>676.0</td>\n",
              "      <td>28</td>\n",
              "      <td>61.887366</td>\n",
              "    </tr>\n",
              "    <tr>\n",
              "      <th>2</th>\n",
              "      <td>332.5</td>\n",
              "      <td>142.5</td>\n",
              "      <td>0.0</td>\n",
              "      <td>228.0</td>\n",
              "      <td>0.0</td>\n",
              "      <td>932.0</td>\n",
              "      <td>594.0</td>\n",
              "      <td>270</td>\n",
              "      <td>40.269535</td>\n",
              "    </tr>\n",
              "    <tr>\n",
              "      <th>3</th>\n",
              "      <td>332.5</td>\n",
              "      <td>142.5</td>\n",
              "      <td>0.0</td>\n",
              "      <td>228.0</td>\n",
              "      <td>0.0</td>\n",
              "      <td>932.0</td>\n",
              "      <td>594.0</td>\n",
              "      <td>365</td>\n",
              "      <td>41.052780</td>\n",
              "    </tr>\n",
              "    <tr>\n",
              "      <th>4</th>\n",
              "      <td>198.6</td>\n",
              "      <td>132.4</td>\n",
              "      <td>0.0</td>\n",
              "      <td>192.0</td>\n",
              "      <td>0.0</td>\n",
              "      <td>978.4</td>\n",
              "      <td>825.5</td>\n",
              "      <td>360</td>\n",
              "      <td>44.296075</td>\n",
              "    </tr>\n",
              "  </tbody>\n",
              "</table>\n",
              "</div>\n",
              "    <div class=\"colab-df-buttons\">\n",
              "\n",
              "  <div class=\"colab-df-container\">\n",
              "    <button class=\"colab-df-convert\" onclick=\"convertToInteractive('df-19d33c19-0b98-4e7f-bacb-65a643c6d585')\"\n",
              "            title=\"Convert this dataframe to an interactive table.\"\n",
              "            style=\"display:none;\">\n",
              "\n",
              "  <svg xmlns=\"http://www.w3.org/2000/svg\" height=\"24px\" viewBox=\"0 -960 960 960\">\n",
              "    <path d=\"M120-120v-720h720v720H120Zm60-500h600v-160H180v160Zm220 220h160v-160H400v160Zm0 220h160v-160H400v160ZM180-400h160v-160H180v160Zm440 0h160v-160H620v160ZM180-180h160v-160H180v160Zm440 0h160v-160H620v160Z\"/>\n",
              "  </svg>\n",
              "    </button>\n",
              "\n",
              "  <style>\n",
              "    .colab-df-container {\n",
              "      display:flex;\n",
              "      gap: 12px;\n",
              "    }\n",
              "\n",
              "    .colab-df-convert {\n",
              "      background-color: #E8F0FE;\n",
              "      border: none;\n",
              "      border-radius: 50%;\n",
              "      cursor: pointer;\n",
              "      display: none;\n",
              "      fill: #1967D2;\n",
              "      height: 32px;\n",
              "      padding: 0 0 0 0;\n",
              "      width: 32px;\n",
              "    }\n",
              "\n",
              "    .colab-df-convert:hover {\n",
              "      background-color: #E2EBFA;\n",
              "      box-shadow: 0px 1px 2px rgba(60, 64, 67, 0.3), 0px 1px 3px 1px rgba(60, 64, 67, 0.15);\n",
              "      fill: #174EA6;\n",
              "    }\n",
              "\n",
              "    .colab-df-buttons div {\n",
              "      margin-bottom: 4px;\n",
              "    }\n",
              "\n",
              "    [theme=dark] .colab-df-convert {\n",
              "      background-color: #3B4455;\n",
              "      fill: #D2E3FC;\n",
              "    }\n",
              "\n",
              "    [theme=dark] .colab-df-convert:hover {\n",
              "      background-color: #434B5C;\n",
              "      box-shadow: 0px 1px 3px 1px rgba(0, 0, 0, 0.15);\n",
              "      filter: drop-shadow(0px 1px 2px rgba(0, 0, 0, 0.3));\n",
              "      fill: #FFFFFF;\n",
              "    }\n",
              "  </style>\n",
              "\n",
              "    <script>\n",
              "      const buttonEl =\n",
              "        document.querySelector('#df-19d33c19-0b98-4e7f-bacb-65a643c6d585 button.colab-df-convert');\n",
              "      buttonEl.style.display =\n",
              "        google.colab.kernel.accessAllowed ? 'block' : 'none';\n",
              "\n",
              "      async function convertToInteractive(key) {\n",
              "        const element = document.querySelector('#df-19d33c19-0b98-4e7f-bacb-65a643c6d585');\n",
              "        const dataTable =\n",
              "          await google.colab.kernel.invokeFunction('convertToInteractive',\n",
              "                                                    [key], {});\n",
              "        if (!dataTable) return;\n",
              "\n",
              "        const docLinkHtml = 'Like what you see? Visit the ' +\n",
              "          '<a target=\"_blank\" href=https://colab.research.google.com/notebooks/data_table.ipynb>data table notebook</a>'\n",
              "          + ' to learn more about interactive tables.';\n",
              "        element.innerHTML = '';\n",
              "        dataTable['output_type'] = 'display_data';\n",
              "        await google.colab.output.renderOutput(dataTable, element);\n",
              "        const docLink = document.createElement('div');\n",
              "        docLink.innerHTML = docLinkHtml;\n",
              "        element.appendChild(docLink);\n",
              "      }\n",
              "    </script>\n",
              "  </div>\n",
              "\n",
              "\n",
              "<div id=\"df-ac74fe94-9c08-4ccb-9d87-6e3b4160e714\">\n",
              "  <button class=\"colab-df-quickchart\" onclick=\"quickchart('df-ac74fe94-9c08-4ccb-9d87-6e3b4160e714')\"\n",
              "            title=\"Suggest charts\"\n",
              "            style=\"display:none;\">\n",
              "\n",
              "<svg xmlns=\"http://www.w3.org/2000/svg\" height=\"24px\"viewBox=\"0 0 24 24\"\n",
              "     width=\"24px\">\n",
              "    <g>\n",
              "        <path d=\"M19 3H5c-1.1 0-2 .9-2 2v14c0 1.1.9 2 2 2h14c1.1 0 2-.9 2-2V5c0-1.1-.9-2-2-2zM9 17H7v-7h2v7zm4 0h-2V7h2v10zm4 0h-2v-4h2v4z\"/>\n",
              "    </g>\n",
              "</svg>\n",
              "  </button>\n",
              "\n",
              "<style>\n",
              "  .colab-df-quickchart {\n",
              "      --bg-color: #E8F0FE;\n",
              "      --fill-color: #1967D2;\n",
              "      --hover-bg-color: #E2EBFA;\n",
              "      --hover-fill-color: #174EA6;\n",
              "      --disabled-fill-color: #AAA;\n",
              "      --disabled-bg-color: #DDD;\n",
              "  }\n",
              "\n",
              "  [theme=dark] .colab-df-quickchart {\n",
              "      --bg-color: #3B4455;\n",
              "      --fill-color: #D2E3FC;\n",
              "      --hover-bg-color: #434B5C;\n",
              "      --hover-fill-color: #FFFFFF;\n",
              "      --disabled-bg-color: #3B4455;\n",
              "      --disabled-fill-color: #666;\n",
              "  }\n",
              "\n",
              "  .colab-df-quickchart {\n",
              "    background-color: var(--bg-color);\n",
              "    border: none;\n",
              "    border-radius: 50%;\n",
              "    cursor: pointer;\n",
              "    display: none;\n",
              "    fill: var(--fill-color);\n",
              "    height: 32px;\n",
              "    padding: 0;\n",
              "    width: 32px;\n",
              "  }\n",
              "\n",
              "  .colab-df-quickchart:hover {\n",
              "    background-color: var(--hover-bg-color);\n",
              "    box-shadow: 0 1px 2px rgba(60, 64, 67, 0.3), 0 1px 3px 1px rgba(60, 64, 67, 0.15);\n",
              "    fill: var(--button-hover-fill-color);\n",
              "  }\n",
              "\n",
              "  .colab-df-quickchart-complete:disabled,\n",
              "  .colab-df-quickchart-complete:disabled:hover {\n",
              "    background-color: var(--disabled-bg-color);\n",
              "    fill: var(--disabled-fill-color);\n",
              "    box-shadow: none;\n",
              "  }\n",
              "\n",
              "  .colab-df-spinner {\n",
              "    border: 2px solid var(--fill-color);\n",
              "    border-color: transparent;\n",
              "    border-bottom-color: var(--fill-color);\n",
              "    animation:\n",
              "      spin 1s steps(1) infinite;\n",
              "  }\n",
              "\n",
              "  @keyframes spin {\n",
              "    0% {\n",
              "      border-color: transparent;\n",
              "      border-bottom-color: var(--fill-color);\n",
              "      border-left-color: var(--fill-color);\n",
              "    }\n",
              "    20% {\n",
              "      border-color: transparent;\n",
              "      border-left-color: var(--fill-color);\n",
              "      border-top-color: var(--fill-color);\n",
              "    }\n",
              "    30% {\n",
              "      border-color: transparent;\n",
              "      border-left-color: var(--fill-color);\n",
              "      border-top-color: var(--fill-color);\n",
              "      border-right-color: var(--fill-color);\n",
              "    }\n",
              "    40% {\n",
              "      border-color: transparent;\n",
              "      border-right-color: var(--fill-color);\n",
              "      border-top-color: var(--fill-color);\n",
              "    }\n",
              "    60% {\n",
              "      border-color: transparent;\n",
              "      border-right-color: var(--fill-color);\n",
              "    }\n",
              "    80% {\n",
              "      border-color: transparent;\n",
              "      border-right-color: var(--fill-color);\n",
              "      border-bottom-color: var(--fill-color);\n",
              "    }\n",
              "    90% {\n",
              "      border-color: transparent;\n",
              "      border-bottom-color: var(--fill-color);\n",
              "    }\n",
              "  }\n",
              "</style>\n",
              "\n",
              "  <script>\n",
              "    async function quickchart(key) {\n",
              "      const quickchartButtonEl =\n",
              "        document.querySelector('#' + key + ' button');\n",
              "      quickchartButtonEl.disabled = true;  // To prevent multiple clicks.\n",
              "      quickchartButtonEl.classList.add('colab-df-spinner');\n",
              "      try {\n",
              "        const charts = await google.colab.kernel.invokeFunction(\n",
              "            'suggestCharts', [key], {});\n",
              "      } catch (error) {\n",
              "        console.error('Error during call to suggestCharts:', error);\n",
              "      }\n",
              "      quickchartButtonEl.classList.remove('colab-df-spinner');\n",
              "      quickchartButtonEl.classList.add('colab-df-quickchart-complete');\n",
              "    }\n",
              "    (() => {\n",
              "      let quickchartButtonEl =\n",
              "        document.querySelector('#df-ac74fe94-9c08-4ccb-9d87-6e3b4160e714 button');\n",
              "      quickchartButtonEl.style.display =\n",
              "        google.colab.kernel.accessAllowed ? 'block' : 'none';\n",
              "    })();\n",
              "  </script>\n",
              "</div>\n",
              "\n",
              "    </div>\n",
              "  </div>\n"
            ],
            "application/vnd.google.colaboratory.intrinsic+json": {
              "type": "dataframe",
              "variable_name": "data",
              "summary": "{\n  \"name\": \"data\",\n  \"rows\": 1030,\n  \"fields\": [\n    {\n      \"column\": \"Cement (component 1)(kg in a m^3 mixture)\",\n      \"properties\": {\n        \"dtype\": \"number\",\n        \"std\": 104.5071416428718,\n        \"min\": 102.0,\n        \"max\": 540.0,\n        \"num_unique_values\": 280,\n        \"samples\": [\n          194.68,\n          480.0,\n          145.4\n        ],\n        \"semantic_type\": \"\",\n        \"description\": \"\"\n      }\n    },\n    {\n      \"column\": \"Blast Furnace Slag (component 2)(kg in a m^3 mixture)\",\n      \"properties\": {\n        \"dtype\": \"number\",\n        \"std\": 86.27910364316895,\n        \"min\": 0.0,\n        \"max\": 359.4,\n        \"num_unique_values\": 187,\n        \"samples\": [\n          186.7,\n          212.0,\n          26.0\n        ],\n        \"semantic_type\": \"\",\n        \"description\": \"\"\n      }\n    },\n    {\n      \"column\": \"Fly Ash (component 3)(kg in a m^3 mixture)\",\n      \"properties\": {\n        \"dtype\": \"number\",\n        \"std\": 63.99646938186508,\n        \"min\": 0.0,\n        \"max\": 200.1,\n        \"num_unique_values\": 163,\n        \"samples\": [\n          81.8,\n          137.9,\n          107.5\n        ],\n        \"semantic_type\": \"\",\n        \"description\": \"\"\n      }\n    },\n    {\n      \"column\": \"Water  (component 4)(kg in a m^3 mixture)\",\n      \"properties\": {\n        \"dtype\": \"number\",\n        \"std\": 21.355567066911522,\n        \"min\": 121.75,\n        \"max\": 247.0,\n        \"num_unique_values\": 205,\n        \"samples\": [\n          164.9,\n          181.1,\n          185.7\n        ],\n        \"semantic_type\": \"\",\n        \"description\": \"\"\n      }\n    },\n    {\n      \"column\": \"Superplasticizer (component 5)(kg in a m^3 mixture)\",\n      \"properties\": {\n        \"dtype\": \"number\",\n        \"std\": 5.973491650590111,\n        \"min\": 0.0,\n        \"max\": 32.2,\n        \"num_unique_values\": 155,\n        \"samples\": [\n          4.14,\n          9.8,\n          6.13\n        ],\n        \"semantic_type\": \"\",\n        \"description\": \"\"\n      }\n    },\n    {\n      \"column\": \"Coarse Aggregate  (component 6)(kg in a m^3 mixture)\",\n      \"properties\": {\n        \"dtype\": \"number\",\n        \"std\": 77.75381809178927,\n        \"min\": 801.0,\n        \"max\": 1145.0,\n        \"num_unique_values\": 284,\n        \"samples\": [\n          852.1,\n          913.9,\n          914.0\n        ],\n        \"semantic_type\": \"\",\n        \"description\": \"\"\n      }\n    },\n    {\n      \"column\": \"Fine Aggregate (component 7)(kg in a m^3 mixture)\",\n      \"properties\": {\n        \"dtype\": \"number\",\n        \"std\": 80.1754273990239,\n        \"min\": 594.0,\n        \"max\": 992.6,\n        \"num_unique_values\": 304,\n        \"samples\": [\n          698.0,\n          613.0,\n          689.3\n        ],\n        \"semantic_type\": \"\",\n        \"description\": \"\"\n      }\n    },\n    {\n      \"column\": \"Age (day)\",\n      \"properties\": {\n        \"dtype\": \"number\",\n        \"std\": 63,\n        \"min\": 1,\n        \"max\": 365,\n        \"num_unique_values\": 14,\n        \"samples\": [\n          91,\n          100,\n          28\n        ],\n        \"semantic_type\": \"\",\n        \"description\": \"\"\n      }\n    },\n    {\n      \"column\": \"Concrete compressive strength(MPa, megapascals) \",\n      \"properties\": {\n        \"dtype\": \"number\",\n        \"std\": 16.705679174867946,\n        \"min\": 2.331807832,\n        \"max\": 82.5992248,\n        \"num_unique_values\": 938,\n        \"samples\": [\n          33.398217439999996,\n          56.63355864,\n          25.559564796\n        ],\n        \"semantic_type\": \"\",\n        \"description\": \"\"\n      }\n    }\n  ]\n}"
            }
          },
          "metadata": {},
          "execution_count": 4
        }
      ]
    },
    {
      "cell_type": "code",
      "source": [
        "data.columns"
      ],
      "metadata": {
        "colab": {
          "base_uri": "https://localhost:8080/"
        },
        "id": "DRQ89Q9OL85h",
        "outputId": "0eab87be-3d7d-48db-b629-e4ca0c0476b6"
      },
      "execution_count": 5,
      "outputs": [
        {
          "output_type": "execute_result",
          "data": {
            "text/plain": [
              "Index(['Cement (component 1)(kg in a m^3 mixture)',\n",
              "       'Blast Furnace Slag (component 2)(kg in a m^3 mixture)',\n",
              "       'Fly Ash (component 3)(kg in a m^3 mixture)',\n",
              "       'Water  (component 4)(kg in a m^3 mixture)',\n",
              "       'Superplasticizer (component 5)(kg in a m^3 mixture)',\n",
              "       'Coarse Aggregate  (component 6)(kg in a m^3 mixture)',\n",
              "       'Fine Aggregate (component 7)(kg in a m^3 mixture)', 'Age (day)',\n",
              "       'Concrete compressive strength(MPa, megapascals) '],\n",
              "      dtype='object')"
            ]
          },
          "metadata": {},
          "execution_count": 5
        }
      ]
    },
    {
      "cell_type": "code",
      "source": [
        "columns = ['Cement (component 1)(kg in a m^3 mixture)', 'Water  (component 4)(kg in a m^3 mixture)','Concrete compressive strength(MPa, megapascals) ' ]\n",
        "data = data[columns]"
      ],
      "metadata": {
        "id": "AhMADXfUMNik"
      },
      "execution_count": 6,
      "outputs": []
    },
    {
      "cell_type": "code",
      "source": [
        "plt.figure(figsize=(10, 6))\n",
        "\n",
        "# Plot Column1 vs Column3\n",
        "plt.scatter(data.iloc[:, 0], data.iloc[:, 2], marker='o', linestyle='-', color='b', label=f'cement')\n",
        "\n",
        "# Plot Column2 vs Column3\n",
        "plt.scatter(data.iloc[:, 1], data.iloc[:, 2], marker='x', linestyle='-', color='r', label=f'water')\n",
        "\n",
        "# Add labels and title\n",
        "plt.xlabel('Feature Value')\n",
        "plt.ylabel(data.columns[2])\n",
        "plt.title(f'Comparison of cement and water composition against Concrete compressive strength')\n",
        "plt.legend()\n",
        "plt.grid(True)\n",
        "\n",
        "# Show the plot\n",
        "plt.show()"
      ],
      "metadata": {
        "colab": {
          "base_uri": "https://localhost:8080/",
          "height": 564
        },
        "id": "lykyE5a4KMOJ",
        "outputId": "9f64cb1e-15df-4068-93f0-caba05df6b67"
      },
      "execution_count": 11,
      "outputs": [
        {
          "output_type": "display_data",
          "data": {
            "text/plain": [
              "<Figure size 1000x600 with 1 Axes>"
            ],
            "image/png": "[encoded data removed]"
          },
          "metadata": {}
        }
      ]
    },
    {
      "cell_type": "code",
      "source": [
        "#convert from dataframe to numpy array\n",
        "data = data.to_numpy()"
      ],
      "metadata": {
        "id": "5saP3Xkrdsz2"
      },
      "execution_count": null,
      "outputs": []
    },
    {
      "cell_type": "code",
      "source": [
        "x = data[:, :-1]\n",
        "y = data[:, -1]\n",
        "print(x.shape, y.shape)"
      ],
      "metadata": {
        "colab": {
          "base_uri": "https://localhost:8080/"
        },
        "id": "N1pcfNfqeItH",
        "outputId": "0906c212-b524-4f45-c1b6-51d496fba2c1"
      },
      "execution_count": null,
      "outputs": [
        {
          "output_type": "stream",
          "name": "stdout",
          "text": [
            "(1030, 2) (1030,)\n"
          ]
        }
      ]
    },
    {
      "cell_type": "code",
      "source": [
        "#making 1D to 2D\n",
        "y = np.expand_dims(y, axis=1)\n",
        "print(x.shape, y.shape)"
      ],
      "metadata": {
        "colab": {
          "base_uri": "https://localhost:8080/"
        },
        "id": "s2Pyr6yqezws",
        "outputId": "a044c100-48ec-4829-f25c-523ed22fb2fe"
      },
      "execution_count": null,
      "outputs": [
        {
          "output_type": "stream",
          "name": "stdout",
          "text": [
            "(1030, 2) (1030, 1)\n"
          ]
        }
      ]
    },
    {
      "cell_type": "markdown",
      "source": [
        "split the data into train, val and test"
      ],
      "metadata": {
        "id": "QGUz3I5TgCIg"
      }
    },
    {
      "cell_type": "code",
      "source": [
        "# Get 60% of the dataset as the training set. Put the remaining 40% in temporary variables: x_ and y_.\n",
        "x_train, x_, y_train, y_ = train_test_split(x, y, test_size=0.40, random_state=1)\n",
        "\n",
        "# Split the 40% subset above into two: one half for cross validation and the other for the test set\n",
        "x_cv, x_test, y_cv, y_test = train_test_split(x_, y_, test_size=0.50, random_state=1)\n",
        "\n",
        "# Delete temporary variables\n",
        "del x_, y_\n",
        "\n",
        "print(f\"the shape of the training set (input) is: {x_train.shape}\")\n",
        "print(f\"the shape of the training set (target) is: {y_train.shape}\\n\")\n",
        "print(f\"the shape of the cross validation set (input) is: {x_cv.shape}\")\n",
        "print(f\"the shape of the cross validation set (target) is: {y_cv.shape}\\n\")\n",
        "print(f\"the shape of the test set (input) is: {x_test.shape}\")\n",
        "print(f\"the shape of the test set (target) is: {y_test.shape}\")"
      ],
      "metadata": {
        "colab": {
          "base_uri": "https://localhost:8080/"
        },
        "id": "ogfYyx4jfJsy",
        "outputId": "eedb1082-13fe-4201-879d-7c92fa9984f7"
      },
      "execution_count": null,
      "outputs": [
        {
          "output_type": "stream",
          "name": "stdout",
          "text": [
            "the shape of the training set (input) is: (618, 2)\n",
            "the shape of the training set (target) is: (618, 1)\n",
            "\n",
            "the shape of the cross validation set (input) is: (206, 2)\n",
            "the shape of the cross validation set (target) is: (206, 1)\n",
            "\n",
            "the shape of the test set (input) is: (206, 2)\n",
            "the shape of the test set (target) is: (206, 1)\n"
          ]
        }
      ]
    },
    {
      "cell_type": "markdown",
      "source": [
        "Feature Scaling"
      ],
      "metadata": {
        "id": "Z1pv076Kglva"
      }
    },
    {
      "cell_type": "code",
      "source": [
        "# Initialize the Scaler -- performs z transform\n",
        "scaler_linear = StandardScaler()\n",
        "\n",
        "# Compute the mean and standard deviation of the 3 data sets then transform it\n",
        "X_train_scaled = scaler_linear.fit_transform(x_train)\n",
        "X_cv_scaled = scaler_linear.transform(x_cv)\n",
        "X_test_scaled = scaler_linear.transform(x_test)"
      ],
      "metadata": {
        "id": "bh3OjJKIAmGq"
      },
      "execution_count": null,
      "outputs": []
    },
    {
      "cell_type": "markdown",
      "source": [
        "### Regression model"
      ],
      "metadata": {
        "id": "MquNzDEZc4dQ"
      }
    },
    {
      "cell_type": "markdown",
      "source": [
        "Train the linear model"
      ],
      "metadata": {
        "id": "FRTOFwOxhMxc"
      }
    },
    {
      "cell_type": "code",
      "source": [
        "linear_model = LinearRegression()\n",
        "linear_model.fit(X_train_scaled, y_train)"
      ],
      "metadata": {
        "colab": {
          "base_uri": "https://localhost:8080/",
          "height": 75
        },
        "id": "mpiQvRYxhHBs",
        "outputId": "0a50691b-3647-48a8-b469-f3aac5fc31d1"
      },
      "execution_count": null,
      "outputs": [
        {
          "output_type": "execute_result",
          "data": {
            "text/plain": [
              "LinearRegression()"
            ],
            "text/html": [
              "<style>#sk-container-id-3 {color: black;background-color: white;}#sk-container-id-3 pre{padding: 0;}#sk-container-id-3 div.sk-toggleable {background-color: white;}#sk-container-id-3 label.sk-toggleable__label {cursor: pointer;display: block;width: 100%;margin-bottom: 0;padding: 0.3em;box-sizing: border-box;text-align: center;}#sk-container-id-3 label.sk-toggleable__label-arrow:before {content: \"▸\";float: left;margin-right: 0.25em;color: #696969;}#sk-container-id-3 label.sk-toggleable__label-arrow:hover:before {color: black;}#sk-container-id-3 div.sk-estimator:hover label.sk-toggleable__label-arrow:before {color: black;}#sk-container-id-3 div.sk-toggleable__content {max-height: 0;max-width: 0;overflow: hidden;text-align: left;background-color: #f0f8ff;}#sk-container-id-3 div.sk-toggleable__content pre {margin: 0.2em;color: black;border-radius: 0.25em;background-color: #f0f8ff;}#sk-container-id-3 input.sk-toggleable__control:checked~div.sk-toggleable__content {max-height: 200px;max-width: 100%;overflow: auto;}#sk-container-id-3 input.sk-toggleable__control:checked~label.sk-toggleable__label-arrow:before {content: \"▾\";}#sk-container-id-3 div.sk-estimator input.sk-toggleable__control:checked~label.sk-toggleable__label {background-color: #d4ebff;}#sk-container-id-3 div.sk-label input.sk-toggleable__control:checked~label.sk-toggleable__label {background-color: #d4ebff;}#sk-container-id-3 input.sk-hidden--visually {border: 0;clip: rect(1px 1px 1px 1px);clip: rect(1px, 1px, 1px, 1px);height: 1px;margin: -1px;overflow: hidden;padding: 0;position: absolute;width: 1px;}#sk-container-id-3 div.sk-estimator {font-family: monospace;background-color: #f0f8ff;border: 1px dotted black;border-radius: 0.25em;box-sizing: border-box;margin-bottom: 0.5em;}#sk-container-id-3 div.sk-estimator:hover {background-color: #d4ebff;}#sk-container-id-3 div.sk-parallel-item::after {content: \"\";width: 100%;border-bottom: 1px solid gray;flex-grow: 1;}#sk-container-id-3 div.sk-label:hover label.sk-toggleable__label {background-color: #d4ebff;}#sk-container-id-3 div.sk-serial::before {content: \"\";position: absolute;border-left: 1px solid gray;box-sizing: border-box;top: 0;bottom: 0;left: 50%;z-index: 0;}#sk-container-id-3 div.sk-serial {display: flex;flex-direction: column;align-items: center;background-color: white;padding-right: 0.2em;padding-left: 0.2em;position: relative;}#sk-container-id-3 div.sk-item {position: relative;z-index: 1;}#sk-container-id-3 div.sk-parallel {display: flex;align-items: stretch;justify-content: center;background-color: white;position: relative;}#sk-container-id-3 div.sk-item::before, #sk-container-id-3 div.sk-parallel-item::before {content: \"\";position: absolute;border-left: 1px solid gray;box-sizing: border-box;top: 0;bottom: 0;left: 50%;z-index: -1;}#sk-container-id-3 div.sk-parallel-item {display: flex;flex-direction: column;z-index: 1;position: relative;background-color: white;}#sk-container-id-3 div.sk-parallel-item:first-child::after {align-self: flex-end;width: 50%;}#sk-container-id-3 div.sk-parallel-item:last-child::after {align-self: flex-start;width: 50%;}#sk-container-id-3 div.sk-parallel-item:only-child::after {width: 0;}#sk-container-id-3 div.sk-dashed-wrapped {border: 1px dashed gray;margin: 0 0.4em 0.5em 0.4em;box-sizing: border-box;padding-bottom: 0.4em;background-color: white;}#sk-container-id-3 div.sk-label label {font-family: monospace;font-weight: bold;display: inline-block;line-height: 1.2em;}#sk-container-id-3 div.sk-label-container {text-align: center;}#sk-container-id-3 div.sk-container {/* jupyter's `normalize.less` sets `[hidden] { display: none; }` but bootstrap.min.css set `[hidden] { display: none !important; }` so we also need the `!important` here to be able to override the default hidden behavior on the sphinx rendered scikit-learn.org. See: https://github.com/scikit-learn/scikit-learn/issues/21755 */display: inline-block !important;position: relative;}#sk-container-id-3 div.sk-text-repr-fallback {display: none;}</style><div id=\"sk-container-id-3\" class=\"sk-top-container\"><div class=\"sk-text-repr-fallback\"><pre>LinearRegression()</pre><b>In a Jupyter environment, please rerun this cell to show the HTML representation or trust the notebook. <br />On GitHub, the HTML representation is unable to render, please try loading this page with nbviewer.org.</b></div><div class=\"sk-container\" hidden><div class=\"sk-item\"><div class=\"sk-estimator sk-toggleable\"><input class=\"sk-toggleable__control sk-hidden--visually\" id=\"sk-estimator-id-3\" type=\"checkbox\" checked><label for=\"sk-estimator-id-3\" class=\"sk-toggleable__label sk-toggleable__label-arrow\">LinearRegression</label><div class=\"sk-toggleable__content\"><pre>LinearRegression()</pre></div></div></div></div></div>"
            ]
          },
          "metadata": {},
          "execution_count": 44
        }
      ]
    },
    {
      "cell_type": "markdown",
      "source": [
        "Evaluate the model"
      ],
      "metadata": {
        "id": "b4p-Z6Z2hkMz"
      }
    },
    {
      "cell_type": "code",
      "source": [
        "#training set\n",
        "\n",
        "yhat = linear_model.predict(X_train_scaled)\n",
        "mse = mean_squared_error(y_train, yhat) / 2\n",
        "print(f\"the mean squared error (MSE) for the training set is: {mse}\")\n",
        "\n",
        "#for-loop implementation of MSE\n",
        "\n",
        "total_squared_error = 0\n",
        "\n",
        "for i in range(len(yhat)):\n",
        "  squared_error_i = (yhat[i] - y_train[i]) ** 2\n",
        "  total_squared_error += squared_error_i\n",
        "mse = total_squared_error / (2*len(yhat))\n",
        "print(f\"the mean squared error (MSE) for the training set is: {mse.squeeze()}\")"
      ],
      "metadata": {
        "colab": {
          "base_uri": "https://localhost:8080/"
        },
        "id": "t5t1o4uzhY7N",
        "outputId": "92980710-b921-477c-8c04-328e78c1f44f"
      },
      "execution_count": null,
      "outputs": [
        {
          "output_type": "stream",
          "name": "stdout",
          "text": [
            "the mean squared error (MSE) for the training set is: 95.68988874224743\n",
            "the mean squared error (MSE) for the training set is: 95.6898887422475\n"
          ]
        }
      ]
    },
    {
      "cell_type": "code",
      "source": [
        "#validation set\n",
        "\n",
        "yhat = linear_model.predict(X_cv_scaled)\n",
        "mse = mean_squared_error(y_cv, yhat) / 2\n",
        "print(f\"the mean squared error (MSE) for the cross validation set is: {mse}\") #this is the fair estimate of generalisation error"
      ],
      "metadata": {
        "colab": {
          "base_uri": "https://localhost:8080/"
        },
        "id": "b-Xlq3V5iNDt",
        "outputId": "7c6df55b-aa7e-4b54-fcfa-68b0348f47c4"
      },
      "execution_count": null,
      "outputs": [
        {
          "output_type": "stream",
          "name": "stdout",
          "text": [
            "the mean squared error (MSE) for the cross validation set is: 93.70313203517878\n"
          ]
        }
      ]
    },
    {
      "cell_type": "markdown",
      "source": [
        "creating polynomial features in the training set"
      ],
      "metadata": {
        "id": "hU0frkhWm6gH"
      }
    },
    {
      "cell_type": "code",
      "source": [
        "#instantiate the class\n",
        "poly = PolynomialFeatures(degree=2, include_bias=False)\n",
        "\n",
        "x_train_mapped = poly.fit_transform(x_train)\n",
        "print(x_train_mapped[0:50])"
      ],
      "metadata": {
        "colab": {
          "base_uri": "https://localhost:8080/"
        },
        "id": "qYFzFfpZmdhs",
        "outputId": "27295b19-926a-45e4-fcf7-e67635d9f6ef"
      },
      "execution_count": null,
      "outputs": [
        {
          "output_type": "stream",
          "name": "stdout",
          "text": [
            "[[3.04000000e+02 2.28000000e+02 9.24160000e+04 6.93120000e+04\n",
            "  5.19840000e+04]\n",
            " [3.76000000e+02 2.14600000e+02 1.41376000e+05 8.06896000e+04\n",
            "  4.60531600e+04]\n",
            " [4.01800000e+02 1.47400000e+02 1.61443240e+05 5.92253200e+04\n",
            "  2.17267600e+04]\n",
            " [2.52500000e+02 1.85700000e+02 6.37562500e+04 4.68892500e+04\n",
            "  3.44844900e+04]\n",
            " [1.66800000e+02 2.03500000e+02 2.78222400e+04 3.39438000e+04\n",
            "  4.14122500e+04]\n",
            " [2.52000000e+02 1.85000000e+02 6.35040000e+04 4.66200000e+04\n",
            "  3.42250000e+04]\n",
            " [2.98000000e+02 1.64000000e+02 8.88040000e+04 4.88720000e+04\n",
            "  2.68960000e+04]\n",
            " [3.62600000e+02 1.64900000e+02 1.31478760e+05 5.97927400e+04\n",
            "  2.71920100e+04]\n",
            " [2.18230000e+02 1.40750000e+02 4.76243329e+04 3.07158725e+04\n",
            "  1.98105625e+04]\n",
            " [2.31750000e+02 1.73960000e+02 5.37080625e+04 4.03152300e+04\n",
            "  3.02620816e+04]\n",
            " [3.39000000e+02 1.97000000e+02 1.14921000e+05 6.67830000e+04\n",
            "  3.88090000e+04]\n",
            " [4.25000000e+02 1.53500000e+02 1.80625000e+05 6.52375000e+04\n",
            "  2.35622500e+04]\n",
            " [2.37000000e+02 2.47000000e+02 5.61690000e+04 5.85390000e+04\n",
            "  6.10090000e+04]\n",
            " [4.25000000e+02 1.53500000e+02 1.80625000e+05 6.52375000e+04\n",
            "  2.35622500e+04]\n",
            " [2.38000000e+02 1.85000000e+02 5.66440000e+04 4.40300000e+04\n",
            "  3.42250000e+04]\n",
            " [4.46000000e+02 1.62000000e+02 1.98916000e+05 7.22520000e+04\n",
            "  2.62440000e+04]\n",
            " [1.73810000e+02 1.72340000e+02 3.02099161e+04 2.99544154e+04\n",
            "  2.97010756e+04]\n",
            " [2.18850000e+02 1.58490000e+02 4.78953225e+04 3.46855365e+04\n",
            "  2.51190801e+04]\n",
            " [4.27500000e+02 2.28000000e+02 1.82756250e+05 9.74700000e+04\n",
            "  5.19840000e+04]\n",
            " [1.72380000e+02 1.56760000e+02 2.97148644e+04 2.70222888e+04\n",
            "  2.45736976e+04]\n",
            " [1.33000000e+02 1.92000000e+02 1.76890000e+04 2.55360000e+04\n",
            "  3.68640000e+04]\n",
            " [3.14000000e+02 1.78900000e+02 9.85960000e+04 5.61746000e+04\n",
            "  3.20052100e+04]\n",
            " [3.07000000e+02 1.93000000e+02 9.42490000e+04 5.92510000e+04\n",
            "  3.72490000e+04]\n",
            " [2.88400000e+02 1.77400000e+02 8.31745600e+04 5.11621600e+04\n",
            "  3.14707600e+04]\n",
            " [1.98600000e+02 1.92000000e+02 3.94419600e+04 3.81312000e+04\n",
            "  3.68640000e+04]\n",
            " [1.90340000e+02 1.61850000e+02 3.62293156e+04 3.08065290e+04\n",
            "  2.61954225e+04]\n",
            " [2.13740000e+02 1.54790000e+02 4.56847876e+04 3.30848146e+04\n",
            "  2.39599441e+04]\n",
            " [3.31000000e+02 1.92000000e+02 1.09561000e+05 6.35520000e+04\n",
            "  3.68640000e+04]\n",
            " [2.81000000e+02 1.86000000e+02 7.89610000e+04 5.22660000e+04\n",
            "  3.45960000e+04]\n",
            " [3.88600000e+02 1.57900000e+02 1.51009960e+05 6.13599400e+04\n",
            "  2.49324100e+04]\n",
            " [2.90350000e+02 1.68080000e+02 8.43031225e+04 4.88020280e+04\n",
            "  2.82508864e+04]\n",
            " [2.51370000e+02 1.88450000e+02 6.31868769e+04 4.73706765e+04\n",
            "  3.55134025e+04]\n",
            " [3.25600000e+02 1.74000000e+02 1.06015360e+05 5.66544000e+04\n",
            "  3.02760000e+04]\n",
            " [1.67000000e+02 1.64030000e+02 2.78890000e+04 2.73930100e+04\n",
            "  2.69058409e+04]\n",
            " [1.66800000e+02 2.03500000e+02 2.78222400e+04 3.39438000e+04\n",
            "  4.14122500e+04]\n",
            " [3.22000000e+02 2.03000000e+02 1.03684000e+05 6.53660000e+04\n",
            "  4.12090000e+04]\n",
            " [3.85000000e+02 1.86000000e+02 1.48225000e+05 7.16100000e+04\n",
            "  3.45960000e+04]\n",
            " [1.50000000e+02 1.74000000e+02 2.25000000e+04 2.61000000e+04\n",
            "  3.02760000e+04]\n",
            " [1.67350000e+02 1.75460000e+02 2.80060225e+04 2.93632310e+04\n",
            "  3.07862116e+04]\n",
            " [3.50000000e+02 2.03000000e+02 1.22500000e+05 7.10500000e+04\n",
            "  4.12090000e+04]\n",
            " [3.18800000e+02 1.55700000e+02 1.01633440e+05 4.96371600e+04\n",
            "  2.42424900e+04]\n",
            " [1.08300000e+02 2.03500000e+02 1.17288900e+04 2.20390500e+04\n",
            "  4.14122500e+04]\n",
            " [3.66000000e+02 1.91300000e+02 1.33956000e+05 7.00158000e+04\n",
            "  3.65956900e+04]\n",
            " [1.67950000e+02 1.21750000e+02 2.82072025e+04 2.04479125e+04\n",
            "  1.48230625e+04]\n",
            " [2.77050000e+02 1.60600000e+02 7.67567025e+04 4.44942300e+04\n",
            "  2.57923600e+04]\n",
            " [2.66000000e+02 2.28000000e+02 7.07560000e+04 6.06480000e+04\n",
            "  5.19840000e+04]\n",
            " [3.93000000e+02 1.92000000e+02 1.54449000e+05 7.54560000e+04\n",
            "  3.68640000e+04]\n",
            " [2.88000000e+02 1.77000000e+02 8.29440000e+04 5.09760000e+04\n",
            "  3.13290000e+04]\n",
            " [2.77000000e+02 1.91000000e+02 7.67290000e+04 5.29070000e+04\n",
            "  3.64810000e+04]\n",
            " [1.81380000e+02 1.69590000e+02 3.28987044e+04 3.07602342e+04\n",
            "  2.87607681e+04]]\n"
          ]
        }
      ]
    },
    {
      "cell_type": "code",
      "source": [
        "#scaling the features\n",
        "\n",
        "scaler_polynomial = StandardScaler()\n",
        "x_train_mapped_scaled = scaler_polynomial.fit_transform(x_train_mapped)\n",
        "print(x_train_mapped_scaled[0:50])"
      ],
      "metadata": {
        "colab": {
          "base_uri": "https://localhost:8080/"
        },
        "id": "N0FFbgOsBWJJ",
        "outputId": "195d20e3-5383-4510-909f-2d17ab87cd70"
      },
      "execution_count": null,
      "outputs": [
        {
          "output_type": "stream",
          "name": "stdout",
          "text": [
            "[[ 0.22984926  2.18683025  0.04957627  0.96839261  2.39579372]\n",
            " [ 0.92731357  1.56037508  0.80650402  1.5577645   1.63532362]\n",
            " [ 1.17723829 -1.58125086  1.11674608  0.44589176 -1.48388037]\n",
            " [-0.26903147  0.20928892 -0.39350707 -0.1931299   0.15195405]\n",
            " [-1.09920774  1.04144579 -0.94905139 -0.8637181   1.04025222]\n",
            " [-0.27387497  0.17656365 -0.39740689 -0.20707734  0.11868146]\n",
            " [ 0.17172723 -0.80519446 -0.00626571 -0.09042132 -0.82106491]\n",
            " [ 0.79750771 -0.76311911  0.65349145  0.47528473 -0.78310962]\n",
            " [-0.60100511 -1.89214093 -0.64290854 -1.03092821 -1.72958096]\n",
            " [-0.47003681 -0.33956061 -0.54885332 -0.53367119 -0.38945583]\n",
            " [ 0.56889441  0.73756828  0.3975064   0.8373877   0.70645569]\n",
            " [ 1.40197679 -1.29607351  1.4132985   0.75732914 -1.24852833]\n",
            " [-0.41918003  3.07508758 -0.51080691  0.41033965  3.55300629]\n",
            " [ 1.40197679 -1.29607351  1.4132985   0.75732914 -1.24852833]\n",
            " [-0.40949303  0.17656365 -0.50346335 -0.34124212  0.11868146]\n",
            " [ 1.60540388 -0.89869523  1.69607966  1.12068777 -0.9046663 ]\n",
            " [-1.03130184 -0.41529624 -0.91213761 -1.07037251 -0.4613897 ]\n",
            " [-0.59499916 -1.06278908 -0.63871901 -0.82529536 -1.04890691]\n",
            " [ 1.4261943   2.18683025  1.44624789  2.42700723  2.39579372]\n",
            " [-1.04515426 -1.14366725 -0.91979118 -1.22225981 -1.11883749]\n",
            " [-1.42662849  0.50381635 -1.10571255 -1.29925116  0.45706196]\n",
            " [ 0.3267193  -0.1086137   0.14511984  0.28786119 -0.16594667]\n",
            " [ 0.25891027  0.55056674  0.07791468  0.44722202  0.50642781]\n",
            " [ 0.07873199 -0.17873928 -0.09329756  0.02821142 -0.23447546]\n",
            " [-0.791161    0.50381635 -0.76940905 -0.64680629  0.45706196]\n",
            " [-0.87117566 -0.90570779 -0.81907694 -1.02623211 -0.91089506]\n",
            " [-0.64449976 -1.23576551 -0.67289415 -0.90821447 -1.1975348 ]\n",
            " [ 0.49139838  0.50381635  0.31464012  0.67001843  0.45706196]\n",
            " [ 0.00704816  0.22331404 -0.15843973  0.08539152  0.16625219]\n",
            " [ 1.04936983 -1.09037181  0.95544625  0.55646737 -1.07284231]\n",
            " [ 0.09762165 -0.61445288 -0.07584984 -0.09404595 -0.64733731]\n",
            " [-0.27997778  0.33785248 -0.40230965 -0.16819149  0.28388429]\n",
            " [ 0.43908855 -0.3376906   0.25982408  0.31271535 -0.38767117]\n",
            " [-1.09727034 -0.80379194 -0.94801927 -1.20305605 -0.81980308]\n",
            " [-1.09920774  1.04144579 -0.94905139 -0.8637181   1.04025222]\n",
            " [ 0.40421534  1.0180706   0.22378096  0.76398558  1.01419089]\n",
            " [ 1.01449661  0.22331404  0.91239042  1.08743148  0.16625219]\n",
            " [-1.26194941 -0.3376906  -1.03133389 -1.27003536 -0.38767117]\n",
            " [-1.09387989 -0.26943503 -0.94621009 -1.10099649 -0.32225031]\n",
            " [ 0.67545146  1.0180706   0.51467869  1.05842288  1.01419089]\n",
            " [ 0.37321692 -1.19322266  0.19207905 -0.05078521 -1.16130592]\n",
            " [-1.6658975   1.04144579 -1.1978566  -1.48039693  1.04025222]\n",
            " [ 0.83044353  0.47109108  0.69178989  1.00485021  0.42265844]\n",
            " [-1.08806769 -2.78039827 -0.94309982 -1.56281956 -2.36909317]\n",
            " [-0.03121551 -0.96414577 -0.19251844 -0.31719451 -0.96257694]\n",
            " [-0.13825691  2.18683025 -0.28529006  0.51958812  2.39579372]\n",
            " [ 1.09199265  0.50381635  1.00861425  1.28665841  0.45706196]\n",
            " [ 0.07485719 -0.19743944 -0.09686205  0.01856814 -0.25265235]\n",
            " [-0.03169986  0.45706597 -0.19294673  0.11859601  0.40795255]\n",
            " [-0.95797122 -0.5438598  -0.87056861 -1.02863023 -0.58195875]]\n"
          ]
        }
      ]
    },
    {
      "cell_type": "code",
      "source": [
        "poly_model = LinearRegression()\n",
        "poly_model.fit(x_train_mapped_scaled, y_train)"
      ],
      "metadata": {
        "colab": {
          "base_uri": "https://localhost:8080/",
          "height": 75
        },
        "id": "vUttNji8B9GT",
        "outputId": "ae64d630-70c0-4bf9-d250-3c5b1841d816"
      },
      "execution_count": null,
      "outputs": [
        {
          "output_type": "execute_result",
          "data": {
            "text/plain": [
              "LinearRegression()"
            ],
            "text/html": [
              "<style>#sk-container-id-4 {color: black;background-color: white;}#sk-container-id-4 pre{padding: 0;}#sk-container-id-4 div.sk-toggleable {background-color: white;}#sk-container-id-4 label.sk-toggleable__label {cursor: pointer;display: block;width: 100%;margin-bottom: 0;padding: 0.3em;box-sizing: border-box;text-align: center;}#sk-container-id-4 label.sk-toggleable__label-arrow:before {content: \"▸\";float: left;margin-right: 0.25em;color: #696969;}#sk-container-id-4 label.sk-toggleable__label-arrow:hover:before {color: black;}#sk-container-id-4 div.sk-estimator:hover label.sk-toggleable__label-arrow:before {color: black;}#sk-container-id-4 div.sk-toggleable__content {max-height: 0;max-width: 0;overflow: hidden;text-align: left;background-color: #f0f8ff;}#sk-container-id-4 div.sk-toggleable__content pre {margin: 0.2em;color: black;border-radius: 0.25em;background-color: #f0f8ff;}#sk-container-id-4 input.sk-toggleable__control:checked~div.sk-toggleable__content {max-height: 200px;max-width: 100%;overflow: auto;}#sk-container-id-4 input.sk-toggleable__control:checked~label.sk-toggleable__label-arrow:before {content: \"▾\";}#sk-container-id-4 div.sk-estimator input.sk-toggleable__control:checked~label.sk-toggleable__label {background-color: #d4ebff;}#sk-container-id-4 div.sk-label input.sk-toggleable__control:checked~label.sk-toggleable__label {background-color: #d4ebff;}#sk-container-id-4 input.sk-hidden--visually {border: 0;clip: rect(1px 1px 1px 1px);clip: rect(1px, 1px, 1px, 1px);height: 1px;margin: -1px;overflow: hidden;padding: 0;position: absolute;width: 1px;}#sk-container-id-4 div.sk-estimator {font-family: monospace;background-color: #f0f8ff;border: 1px dotted black;border-radius: 0.25em;box-sizing: border-box;margin-bottom: 0.5em;}#sk-container-id-4 div.sk-estimator:hover {background-color: #d4ebff;}#sk-container-id-4 div.sk-parallel-item::after {content: \"\";width: 100%;border-bottom: 1px solid gray;flex-grow: 1;}#sk-container-id-4 div.sk-label:hover label.sk-toggleable__label {background-color: #d4ebff;}#sk-container-id-4 div.sk-serial::before {content: \"\";position: absolute;border-left: 1px solid gray;box-sizing: border-box;top: 0;bottom: 0;left: 50%;z-index: 0;}#sk-container-id-4 div.sk-serial {display: flex;flex-direction: column;align-items: center;background-color: white;padding-right: 0.2em;padding-left: 0.2em;position: relative;}#sk-container-id-4 div.sk-item {position: relative;z-index: 1;}#sk-container-id-4 div.sk-parallel {display: flex;align-items: stretch;justify-content: center;background-color: white;position: relative;}#sk-container-id-4 div.sk-item::before, #sk-container-id-4 div.sk-parallel-item::before {content: \"\";position: absolute;border-left: 1px solid gray;box-sizing: border-box;top: 0;bottom: 0;left: 50%;z-index: -1;}#sk-container-id-4 div.sk-parallel-item {display: flex;flex-direction: column;z-index: 1;position: relative;background-color: white;}#sk-container-id-4 div.sk-parallel-item:first-child::after {align-self: flex-end;width: 50%;}#sk-container-id-4 div.sk-parallel-item:last-child::after {align-self: flex-start;width: 50%;}#sk-container-id-4 div.sk-parallel-item:only-child::after {width: 0;}#sk-container-id-4 div.sk-dashed-wrapped {border: 1px dashed gray;margin: 0 0.4em 0.5em 0.4em;box-sizing: border-box;padding-bottom: 0.4em;background-color: white;}#sk-container-id-4 div.sk-label label {font-family: monospace;font-weight: bold;display: inline-block;line-height: 1.2em;}#sk-container-id-4 div.sk-label-container {text-align: center;}#sk-container-id-4 div.sk-container {/* jupyter's `normalize.less` sets `[hidden] { display: none; }` but bootstrap.min.css set `[hidden] { display: none !important; }` so we also need the `!important` here to be able to override the default hidden behavior on the sphinx rendered scikit-learn.org. See: https://github.com/scikit-learn/scikit-learn/issues/21755 */display: inline-block !important;position: relative;}#sk-container-id-4 div.sk-text-repr-fallback {display: none;}</style><div id=\"sk-container-id-4\" class=\"sk-top-container\"><div class=\"sk-text-repr-fallback\"><pre>LinearRegression()</pre><b>In a Jupyter environment, please rerun this cell to show the HTML representation or trust the notebook. <br />On GitHub, the HTML representation is unable to render, please try loading this page with nbviewer.org.</b></div><div class=\"sk-container\" hidden><div class=\"sk-item\"><div class=\"sk-estimator sk-toggleable\"><input class=\"sk-toggleable__control sk-hidden--visually\" id=\"sk-estimator-id-4\" type=\"checkbox\" checked><label for=\"sk-estimator-id-4\" class=\"sk-toggleable__label sk-toggleable__label-arrow\">LinearRegression</label><div class=\"sk-toggleable__content\"><pre>LinearRegression()</pre></div></div></div></div></div>"
            ]
          },
          "metadata": {},
          "execution_count": 49
        }
      ]
    },
    {
      "cell_type": "code",
      "source": [
        "yhat_poly = poly_model.predict(x_train_mapped_scaled)\n",
        "mse = mean_squared_error(y_train, yhat_poly) / 2\n",
        "print(f\"the mean squared error (MSE) for the training set is: {mse}\")"
      ],
      "metadata": {
        "colab": {
          "base_uri": "https://localhost:8080/"
        },
        "id": "z18m8QvtCaxp",
        "outputId": "34a71b82-3e45-45b0-8b62-f19ff87a8451"
      },
      "execution_count": null,
      "outputs": [
        {
          "output_type": "stream",
          "name": "stdout",
          "text": [
            "the mean squared error (MSE) for the training set is: 91.43105325615602\n"
          ]
        }
      ]
    },
    {
      "cell_type": "code",
      "source": [
        "#converting the val data to polynomial features and then scaling\n",
        "X_cv_mapped = poly.transform(x_cv)\n",
        "X_cv_mapped_scaled = scaler_polynomial.transform(X_cv_mapped)"
      ],
      "metadata": {
        "id": "My5PJzIxC1sC"
      },
      "execution_count": null,
      "outputs": []
    },
    {
      "cell_type": "code",
      "source": [
        "#predict on val data\n",
        "yhat_poly_cv = poly_model.predict(X_cv_mapped_scaled)\n",
        "mse = mean_squared_error(y_cv, yhat_poly_cv) / 2\n",
        "print(f\"the mean squared error (MSE) for the cross validation set is: {mse}\")"
      ],
      "metadata": {
        "colab": {
          "base_uri": "https://localhost:8080/"
        },
        "id": "mse_2OJSEiTO",
        "outputId": "19ec3b7e-d81e-40b8-82fb-ccbd8ec26e1c"
      },
      "execution_count": null,
      "outputs": [
        {
          "output_type": "stream",
          "name": "stdout",
          "text": [
            "the mean squared error (MSE) for the cross validation set is: 92.02844833569529\n"
          ]
        }
      ]
    },
    {
      "cell_type": "markdown",
      "source": [
        "trying different polynomial models to see which one gives the least MSE"
      ],
      "metadata": {
        "id": "29RihqsoFnCQ"
      }
    },
    {
      "cell_type": "code",
      "source": [
        "train_mses = []\n",
        "cv_mses = []\n",
        "models = []\n",
        "polys = []\n",
        "scalers = []\n",
        "\n",
        "for degree in range(1,11):\n",
        "\n",
        "  #adding features to the training set\n",
        "  poly = PolynomialFeatures(degree=degree, include_bias=False)\n",
        "  x_train_mapped = poly.fit_transform(x_train)\n",
        "  polys.append(poly)\n",
        "\n",
        "  #scaling the training set\n",
        "  scaler_poly = StandardScaler()\n",
        "  x_train_mapped_scaled = scaler_poly.fit_transform(x_train_mapped)\n",
        "  scalers.append(scaler_poly)\n",
        "\n",
        "  #training the model\n",
        "  model = LinearRegression()\n",
        "  model.fit(x_train_mapped_scaled, y_train)\n",
        "  models.append(model)\n",
        "\n",
        "  #compute training MSE\n",
        "  yhat = model.predict(x_train_mapped_scaled)\n",
        "  train_mse = mean_squared_error(yhat, y_train) / 2\n",
        "  train_mses.append(train_mse)\n",
        "\n",
        "  #adding features and scaling the val set\n",
        "  x_cv_mapped = poly.transform(x_cv)\n",
        "  x_cv_mapped_scaled = scaler_poly.transform(x_cv_mapped)\n",
        "  yhat = model.predict(x_cv_mapped_scaled)\n",
        "  cv_mse = mean_squared_error(yhat, y_cv) / 2\n",
        "  cv_mses.append(cv_mse)"
      ],
      "metadata": {
        "id": "2EmyJAOkEtQf"
      },
      "execution_count": null,
      "outputs": []
    },
    {
      "cell_type": "code",
      "source": [
        "degrees = range(1,11)\n",
        "\n",
        "# Create the plot\n",
        "plt.figure(figsize=(10, 6))\n",
        "plt.plot(degrees, train_mses, marker='o', linestyle='-', color='b', label='Train MSE')\n",
        "plt.plot(degrees, cv_mses, marker='o', linestyle='--', color='r', label='Val MSE')\n",
        "\n",
        "# Add title and labels\n",
        "plt.title('Train and Validation MSE vs Degree of Model')\n",
        "plt.xlabel('Degree of Model')\n",
        "plt.ylabel('Mean Squared Error')\n",
        "plt.legend()\n",
        "plt.grid(True)\n",
        "\n",
        "# Show the plot\n",
        "plt.show()"
      ],
      "metadata": {
        "colab": {
          "base_uri": "https://localhost:8080/",
          "height": 564
        },
        "id": "Telu-IfpHitk",
        "outputId": "59aff178-e606-4953-9c57-d6eaa33a0afe"
      },
      "execution_count": null,
      "outputs": [
        {
          "output_type": "display_data",
          "data": {
            "text/plain": [
              "<Figure size 1000x600 with 1 Axes>"
            ],
            "image/png": "[encoded data removed]"
          },
          "metadata": {}
        }
      ]
    },
    {
      "cell_type": "code",
      "source": [
        "degree = np.argmin(cv_mses)+1\n",
        "print(f\"Lowest CV MSE is found in the model with degree={degree}\")"
      ],
      "metadata": {
        "colab": {
          "base_uri": "https://localhost:8080/"
        },
        "id": "YXceCdYoKShj",
        "outputId": "0e04e32e-c9b1-4466-9038-0e6516815297"
      },
      "execution_count": null,
      "outputs": [
        {
          "output_type": "stream",
          "name": "stdout",
          "text": [
            "Lowest CV MSE is found in the model with degree=9\n"
          ]
        }
      ]
    },
    {
      "cell_type": "markdown",
      "source": [
        "Generalisation error"
      ],
      "metadata": {
        "id": "f1bJMxlaN3d8"
      }
    },
    {
      "cell_type": "code",
      "source": [
        "x_test_mapped = polys[degree-1].transform(x_test)\n",
        "x_test_mapped_scaled = scalers[degree-1].transform(x_test_mapped)\n",
        "final_model = models[degree-1]\n",
        "\n",
        "yhat = final_model.predict(x_test_mapped_scaled)\n",
        "test_mse = mean_squared_error(yhat, y_test) / 2\n",
        "\n",
        "print(f\"Training MSE: {train_mses[degree-1]:.2f}\")\n",
        "print(f\"Cross Validation MSE: {cv_mses[degree-1]:.2f}\")\n",
        "print(f\"Test MSE: {test_mse:.2f}\")"
      ],
      "metadata": {
        "colab": {
          "base_uri": "https://localhost:8080/"
        },
        "id": "NGlJYavKN0V9",
        "outputId": "e14752ef-c8bf-4fcb-ad24-791cd6496f83"
      },
      "execution_count": null,
      "outputs": [
        {
          "output_type": "stream",
          "name": "stdout",
          "text": [
            "Training MSE: 73.80\n",
            "Cross Validation MSE: 84.46\n",
            "Test MSE: 89.25\n"
          ]
        }
      ]
    },
    {
      "cell_type": "markdown",
      "source": [
        "### Neural Network"
      ],
      "metadata": {
        "id": "wC-hbA9JUi7G"
      }
    },
    {
      "cell_type": "markdown",
      "source": [
        "data preparation"
      ],
      "metadata": {
        "id": "BBDkTzBJVBvb"
      }
    },
    {
      "cell_type": "code",
      "source": [
        "import tensorflow as tf\n",
        "from tensorflow.keras.models import Sequential\n",
        "from tensorflow.keras.layers import Dense"
      ],
      "metadata": {
        "id": "aQaqRdbIVw3D"
      },
      "execution_count": null,
      "outputs": []
    },
    {
      "cell_type": "code",
      "source": [
        "# Add polynomial features\n",
        "degree = 1\n",
        "poly = PolynomialFeatures(degree, include_bias=False)\n",
        "X_train_mapped = poly.fit_transform(x_train)\n",
        "X_cv_mapped = poly.transform(x_cv)\n",
        "X_test_mapped = poly.transform(x_test)"
      ],
      "metadata": {
        "id": "i21oyHujU-uA"
      },
      "execution_count": null,
      "outputs": []
    },
    {
      "cell_type": "code",
      "source": [
        "# Scale the features using the z-score\n",
        "scaler = StandardScaler()\n",
        "X_train_mapped_scaled = scaler.fit_transform(X_train_mapped)\n",
        "X_cv_mapped_scaled = scaler.transform(X_cv_mapped)\n",
        "X_test_mapped_scaled = scaler.transform(X_test_mapped)"
      ],
      "metadata": {
        "id": "J7B7GIOTPNId"
      },
      "execution_count": null,
      "outputs": []
    },
    {
      "cell_type": "markdown",
      "source": [
        "initialising NN with different architectures"
      ],
      "metadata": {
        "id": "iHQIYRbdWD1Y"
      }
    },
    {
      "cell_type": "code",
      "source": [
        "def build_models():\n",
        "\n",
        "    tf.random.set_seed(20)\n",
        "\n",
        "    model_1 = Sequential(\n",
        "        [\n",
        "            Dense(25, activation = 'relu'),\n",
        "            Dense(15, activation = 'relu'),\n",
        "            Dense(1, activation = 'linear')\n",
        "        ],\n",
        "        name='model_1'\n",
        "    )\n",
        "\n",
        "    model_2 = Sequential(\n",
        "        [\n",
        "            Dense(20, activation = 'relu'),\n",
        "            Dense(12, activation = 'relu'),\n",
        "            Dense(12, activation = 'relu'),\n",
        "            Dense(20, activation = 'relu'),\n",
        "            Dense(1, activation = 'linear')\n",
        "        ],\n",
        "        name='model_2'\n",
        "    )\n",
        "\n",
        "    model_3 = Sequential(\n",
        "        [\n",
        "            Dense(32, activation = 'relu'),\n",
        "            Dense(16, activation = 'relu'),\n",
        "            Dense(8, activation = 'relu'),\n",
        "            Dense(4, activation = 'relu'),\n",
        "            Dense(12, activation = 'relu'),\n",
        "            Dense(1, activation = 'linear')\n",
        "        ],\n",
        "        name='model_3'\n",
        "    )\n",
        "\n",
        "    model_list = [model_1, model_2, model_3]\n",
        "\n",
        "    return model_list"
      ],
      "metadata": {
        "id": "tBwKTb_sVPc_"
      },
      "execution_count": null,
      "outputs": []
    },
    {
      "cell_type": "code",
      "source": [
        "nn_train_mses = []\n",
        "nn_val_mses = []\n",
        "\n",
        "\n",
        "models = build_models()\n",
        "for model in models:\n",
        "\n",
        "  #setting up loss and optimiser\n",
        "  model.compile(\n",
        "      loss = 'mse',\n",
        "      optimizer = tf.keras.optimizers.Adam(learning_rate = 0.001),\n",
        "  )\n",
        "\n",
        "  print(f\"Training {model.name}...\")\n",
        "\n",
        "  #training\n",
        "  model.fit(X_train_mapped_scaled, y_train, epochs = 500, verbose=0)\n",
        "\n",
        "  print(\"Done!\\n\")\n",
        "\n",
        "  #training error\n",
        "  yhat = model.predict(X_train_mapped_scaled)\n",
        "  train_mse = mean_squared_error(y_train, yhat) / 2\n",
        "  nn_train_mses.append(train_mse)\n",
        "\n",
        "  #validation error\n",
        "  yhat = model.predict(X_cv_mapped_scaled)\n",
        "  val_mse = mean_squared_error(yhat, y_cv)\n",
        "  nn_val_mses.append(val_mse)\n",
        "\n",
        "for model_num in range(len(nn_train_mses)):\n",
        "    print(\n",
        "        f\"Model {model_num+1}: Training MSE: {nn_train_mses[model_num]:.2f}, \" +\n",
        "        f\"CV MSE: {nn_val_mses[model_num]:.2f}\"\n",
        "        )"
      ],
      "metadata": {
        "colab": {
          "base_uri": "https://localhost:8080/"
        },
        "id": "-5t9E9gXV7sG",
        "outputId": "da914337-cfda-4661-a3bf-6fa4f3bb9e1c"
      },
      "execution_count": null,
      "outputs": [
        {
          "output_type": "stream",
          "name": "stdout",
          "text": [
            "Training model_1...\n",
            "Done!\n",
            "\n",
            "20/20 [==============================] - 0s 2ms/step\n",
            "7/7 [==============================] - 0s 2ms/step\n",
            "Training model_2...\n",
            "Done!\n",
            "\n",
            "20/20 [==============================] - 0s 2ms/step\n",
            "7/7 [==============================] - 0s 2ms/step\n",
            "Training model_3...\n",
            "Done!\n",
            "\n",
            "20/20 [==============================] - 0s 2ms/step\n",
            "7/7 [==============================] - 0s 4ms/step\n",
            "Model 1: Training MSE: 86.49, CV MSE: 173.90\n",
            "Model 2: Training MSE: 78.74, CV MSE: 171.63\n",
            "Model 3: Training MSE: 78.34, CV MSE: 173.13\n"
          ]
        }
      ]
    },
    {
      "cell_type": "code",
      "source": [
        "model_num = 3\n",
        "\n",
        "#test MSE\n",
        "yhat = models[model_num - 1].predict(X_test_mapped_scaled)\n",
        "test_mse = mean_squared_error(yhat, y_test) / 2\n",
        "\n",
        "print(f\"Training MSE: {nn_train_mses[model_num-1]:.2f}\")\n",
        "print(f\"Cross Validation MSE: {nn_val_mses[model_num-1]:.2f}\")\n",
        "print(f\"Test MSE: {test_mse:.2f}\")"
      ],
      "metadata": {
        "colab": {
          "base_uri": "https://localhost:8080/"
        },
        "id": "pNGn5k0LaOX8",
        "outputId": "940d1b54-0388-48f5-a2ee-58ca6bb87b36"
      },
      "execution_count": null,
      "outputs": [
        {
          "output_type": "stream",
          "name": "stdout",
          "text": [
            "7/7 [==============================] - 0s 4ms/step\n",
            "Training MSE: 78.34\n",
            "Cross Validation MSE: 173.13\n",
            "Test MSE: 92.37\n"
          ]
        }
      ]
    },
    {
      "cell_type": "markdown",
      "source": [
        "In this case, a polynomial model performs a lit bit better compared to a Neural Network with 6 layers. From my understanding this could be because of one of the following reasons:\n",
        "- **Model Complexity vs. Dataset Complexity** : The polynomial model might be adequately able to capture the relationship between input variables(cement and water) and the output variable(compressive strength). On the other hand Neural networks with many layers can overfit small or relatively simple datasets(which is true in our case).  \n",
        "\n",
        "- Polynomial models inherently consider interactions between features, which might be crucial in this context. If the relationship between Cement, Water, and Compressive Strength involves significant interactions, a polynomial model can naturally capture these.\n",
        "- The size and quality of our dataset is more suitable for simpler models. Neural networks typically require large amounts of data to perform well. The dataset is small and our chosen features are not so diverse, hence a simpler model like polynomial regression might generalize better."
      ],
      "metadata": {
        "id": "t92fzMtRcAwc"
      }
    }
  ]
}
